{
 "cells": [
  {
   "cell_type": "code",
   "execution_count": 6,
   "id": "initial_id",
   "metadata": {
    "ExecuteTime": {
     "end_time": "2025-06-06T08:10:22.838901Z",
     "start_time": "2025-06-06T08:10:21.227498Z"
    },
    "collapsed": true
   },
   "outputs": [
    {
     "name": "stderr",
     "output_type": "stream",
     "text": [
      "/Users/oginokairan/Projects/queue/Morph/playground/streamlit-business-intelligence/.venv/lib/python3.12/site-packages/google/cloud/bigquery/table.py:1957: UserWarning: BigQuery Storage module not found, fetch data with the REST endpoint instead.\n",
      "  warnings.warn(\n"
     ]
    },
    {
     "name": "stdout",
     "output_type": "stream",
     "text": [
      "         fullVisitorId  visitStartTime operatingSystem         country  \\\n",
      "0  3418334011779872055      1501591568         Windows          Greece   \n",
      "1  2474397855041322408      1501589647         Windows           India   \n",
      "2  5870462820713110108      1501616621         Windows  United Kingdom   \n",
      "3  9397809171349480379      1501601200         Windows   United States   \n",
      "4  6089902943184578335      1501615525         Windows   United States   \n",
      "\n",
      "   visits  pageviews  \n",
      "0       1          1  \n",
      "1       1          1  \n",
      "2       1          1  \n",
      "3       1          1  \n",
      "4       1          1  \n"
     ]
    }
   ],
   "source": [
    "from google.cloud import bigquery\n",
    "from google.oauth2 import service_account\n",
    "\n",
    "credentials = service_account.Credentials.from_service_account_file(\n",
    "    \"../../squadbase-demo.json\"\n",
    ")\n",
    "client = bigquery.Client(credentials=credentials, project=credentials.project_id)\n",
    "\n",
    "query = \"\"\"\n",
    "        SELECT\n",
    "            fullVisitorId,\n",
    "            visitStartTime,\n",
    "            device.operatingSystem,\n",
    "            geoNetwork.country,\n",
    "            totals.visits,\n",
    "            totals.pageviews\n",
    "        FROM\n",
    "            `bigquery-public-data.google_analytics_sample.ga_sessions_20170801`\n",
    "        LIMIT 100\n",
    "        \"\"\"\n",
    "\n",
    "query_job = client.query(query)\n",
    "df = query_job.to_dataframe()\n",
    "print(df.head())"
   ]
  }
 ],
 "metadata": {
  "kernelspec": {
   "display_name": "Python 3",
   "language": "python",
   "name": "python3"
  },
  "language_info": {
   "codemirror_mode": {
    "name": "ipython",
    "version": 2
   },
   "file_extension": ".py",
   "mimetype": "text/x-python",
   "name": "python",
   "nbconvert_exporter": "python",
   "pygments_lexer": "ipython2",
   "version": "2.7.6"
  }
 },
 "nbformat": 4,
 "nbformat_minor": 5
}
